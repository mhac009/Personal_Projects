{
 "cells": [
  {
   "cell_type": "code",
   "execution_count": 19,
   "id": "2e9884a4",
   "metadata": {},
   "outputs": [],
   "source": [
    "import requests\n",
    "from bs4 import BeautifulSoup\n",
    "\n",
    "import pandas as pd\n",
    "import numpy as np\n",
    "import seaborn as sns\n",
    "import matplotlib.pyplot as plt"
   ]
  },
  {
   "cell_type": "code",
   "execution_count": 20,
   "id": "40ff3b00",
   "metadata": {},
   "outputs": [],
   "source": [
    "for i in range(2017, 2023):\n",
    "    r = requests.get(f'https://aflwstats.com/players/{i}')\n",
    "\n",
    "    soup = BeautifulSoup(r.content, 'lxml')\n",
    "    \n",
    "    df = pd.DataFrame(columns = ['Team', 'Player', 'Games', 'Kicks', 'Handballs', 'Disposals', 'Contested Possessions', 'Metres Gained', 'Marks', 'Tackles', 'Hitouts', 'Fantasy', 'Goals', 'Behinds', 'Score'])\n",
    "\n",
    "    table = soup.find('table', class_='sortable-theme-finder')\n",
    "\n",
    "    for row in table.tbody.find_all('tr'):\n",
    "    \n",
    "        columns = row.find_all('td')\n",
    "    \n",
    "    \n",
    "        team = columns[0].find(\"a\").img['title']\n",
    "        player = columns[1].text\n",
    "        games = columns[2].text\n",
    "        kicks = columns[3].text\n",
    "        handballs = columns[4].text\n",
    "        disposals = columns[5].text\n",
    "        contested_possessions = columns[6].text\n",
    "        metres_gained = columns[7].text\n",
    "        marks = columns[8].text\n",
    "        tackles = columns[9].text\n",
    "        hitouts = columns[10].text\n",
    "        fantasy = columns[11].text\n",
    "        goals = columns[12].find('span', class_ = \"gl\").text\n",
    "        behinds = columns[12].find('span', class_ = \"bh\").text\n",
    "        score = columns[12].find('span', class_ = \"sc\").text\n",
    "    \n",
    "    \n",
    "        player_info = {'Year': i, 'Team': team, 'Player': player, 'Games': games, 'Kicks': kicks, 'Handballs': handballs, 'Disposals': disposals, 'Contested Possessions': contested_possessions, 'Metres Gained': metres_gained, 'Marks': marks, 'Tackles': tackles, 'Hitouts': hitouts, 'Fantasy': fantasy, 'Goals': goals, 'Behinds': behinds, 'Score': score}\n",
    "        df = df.append(player_info, ignore_index = True)\n",
    "    \n",
    "        df.to_csv(f'{i}.csv')"
   ]
  },
  {
   "cell_type": "code",
   "execution_count": null,
   "id": "471b473d",
   "metadata": {},
   "outputs": [],
   "source": []
  }
 ],
 "metadata": {
  "kernelspec": {
   "display_name": "Python 3",
   "language": "python",
   "name": "python3"
  },
  "language_info": {
   "codemirror_mode": {
    "name": "ipython",
    "version": 3
   },
   "file_extension": ".py",
   "mimetype": "text/x-python",
   "name": "python",
   "nbconvert_exporter": "python",
   "pygments_lexer": "ipython3",
   "version": "3.8.8"
  }
 },
 "nbformat": 4,
 "nbformat_minor": 5
}
