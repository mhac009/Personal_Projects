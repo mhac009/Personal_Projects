{
 "cells": [
  {
   "cell_type": "markdown",
   "id": "19b3ab80",
   "metadata": {},
   "source": [
    "# Edge10 Data Generation"
   ]
  },
  {
   "cell_type": "code",
   "execution_count": 535,
   "id": "c999fa2c",
   "metadata": {},
   "outputs": [],
   "source": [
    "import pandas as pd\n",
    "import numpy as np\n",
    "from numpy import random\n",
    "from datetime import datetime\n",
    "from matplotlib import pyplot as plt"
   ]
  },
  {
   "cell_type": "markdown",
   "id": "f5be97c7",
   "metadata": {},
   "source": [
    "Test FC Data consists of:\n",
    "\n",
    "20 players\n",
    "10 weeks of daily data = 70 samples/player\n",
    "2014-2018, starting on the first day of the year"
   ]
  },
  {
   "cell_type": "code",
   "execution_count": 561,
   "id": "2d67c524",
   "metadata": {},
   "outputs": [],
   "source": [
    "#Iterating through each player and year to populate dataframe\n",
    "\n",
    "dfg = pd.DataFrame()\n",
    "\n",
    "years = [2014, 2015, 2016, 2017, 2018]\n",
    "\n",
    "#Instatiating variables for correlated data columns Distance and Player Load\n",
    "def corr2cov(p: np.ndarray, s:np.ndarray) -> np.ndarray:\n",
    "    d = np.diag(s)\n",
    "    return d @ p @ d\n",
    "\n",
    "corr = np.array([[1., 0.5],\n",
    "                [0.5, 1.]])\n",
    "stdev = np.array([40, 750])\n",
    "mean = np.array([450, 5500])\n",
    "cov = corr2cov(corr, stdev)\n",
    "\n",
    "for player in players:\n",
    "    \n",
    "    for year in years:\n",
    " \n",
    "        date = pd.date_range(f'{year}-01-01', periods=70, freq='D')\n",
    "    \n",
    "        duration = random.randint(45, 90, size=70)\n",
    "        accels = random.randint(50, 200, size=70)\n",
    "        RPE = random.randint(1,10, size=70)\n",
    "        data = np.random.multivariate_normal(mean=mean, cov=cov, size=70)\n",
    "    \n",
    "        player_load = []\n",
    "        distance = []\n",
    "    \n",
    "        for i in range(0, 70):\n",
    "            player_load.append(data[i][0])\n",
    "            distance.append(data[i][1])\n",
    "    \n",
    "        #print(len(date), len(player), len(duration), len(accels),len(RPE),len(player_load),len(distance))\n",
    "        datag = pd.DataFrame({'Date': date, 'Player': player, 'Duration': duration, 'Accelerations': accels, 'RPE': RPE, 'Distance': distance, 'Player_load': player_load})\n",
    "        dfg = dfg.append(datag)\n",
    "        \n",
    "dfg = dfg.reset_index()\n",
    "dfg.index.name='ID'\n",
    "\n",
    "dfg.to_csv('GPS_data.csv')"
   ]
  },
  {
   "cell_type": "code",
   "execution_count": 541,
   "id": "578ee613",
   "metadata": {
    "scrolled": true
   },
   "outputs": [],
   "source": [
    "#Iterating through each player and year to populate dataframe\n",
    "\n",
    "dfw = pd.DataFrame()\n",
    "\n",
    "years = [2014, 2015, 2016, 2017, 2018]\n",
    "\n",
    "for player in players:\n",
    "    \n",
    "    for year in years:\n",
    "    \n",
    "        date = pd.date_range(f'{year}-01-01', periods=70, freq='D')\n",
    "    \n",
    "        sleep = random.randint(5, 10, size = 70)\n",
    "        motivation = random.randint(1,10, size = 70)\n",
    "        soreness = random.randint(1,10, size = 70)\n",
    "        \n",
    "    \n",
    "        data = pd.DataFrame({'Date': date, 'Player': player, 'Sleep': sleep, 'Motivation': motivation, 'Soreness': soreness})\n",
    "        dfw = dfw.append(data)\n",
    "\n",
    "    positions = ['GK', 'CB', 'WM', 'CM', 'CF']    \n",
    "    player_pos = np.random.choice(positions)\n",
    "\n",
    "    pos_list.append(player_pos)\n",
    "    zip_pos = dict(zip(players, pos_list))\n",
    "    dfw['Player_pos'] = dfw.Player.replace(zip_pos)  \n",
    "\n",
    "dfw = dfw.reset_index()\n",
    "dfw.index.name='ID'\n",
    "\n",
    "dfw.to_csv('Wellness_data.csv')"
   ]
  },
  {
   "cell_type": "code",
   "execution_count": null,
   "id": "533e6d33",
   "metadata": {},
   "outputs": [],
   "source": []
  }
 ],
 "metadata": {
  "kernelspec": {
   "display_name": "Python 3",
   "language": "python",
   "name": "python3"
  },
  "language_info": {
   "codemirror_mode": {
    "name": "ipython",
    "version": 3
   },
   "file_extension": ".py",
   "mimetype": "text/x-python",
   "name": "python",
   "nbconvert_exporter": "python",
   "pygments_lexer": "ipython3",
   "version": "3.8.8"
  }
 },
 "nbformat": 4,
 "nbformat_minor": 5
}
